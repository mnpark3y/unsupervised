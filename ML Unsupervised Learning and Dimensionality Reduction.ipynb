{
 "cells": [
  {
   "cell_type": "code",
   "execution_count": null,
   "metadata": {
    "collapsed": true
   },
   "outputs": [],
   "source": [
    "## GT Account: mwhite315\n",
    "## CS 7641: Machine Learning\n",
    "## Unsupervised Learning and Dimensionality Reduction\n",
    "## Dataset: Twitter\n",
    "# Description: Code to run 6 different Unsupervised Learning Algorithms\n",
    "#\n",
    "#"
   ]
  },
  {
   "cell_type": "code",
   "execution_count": 75,
   "metadata": {},
   "outputs": [],
   "source": [
    "import numpy as np\n",
    "import pandas as pd\n",
    "import gensim\n",
    "import cPickle as pickle\n",
    "from sklearn.decomposition import FastICA\n",
    "from sklearn.cross_validation import train_test_split\n",
    "from sklearn.metrics import roc_curve, auc\n",
    "from sklearn.feature_extraction.text import TfidfVectorizer\n",
    "from sklearn.cluster import KMeans\n",
    "from sklearn.metrics import adjusted_rand_score\n",
    "from sklearn import tree, model_selection, svm\n",
    "from sklearn.neural_network import MLPClassifier\n",
    "from sklearn.model_selection import train_test_split\n",
    "from sklearn.metrics import classification_report, confusion_matrix, accuracy_score\n",
    "from sklearn.tree import DecisionTreeClassifier\n",
    "from sklearn.ensemble import AdaBoostClassifier\n",
    "from sklearn.neighbors import KNeighborsClassifier\n",
    "import graphviz\n",
    "import matplotlib.pyplot as plt\n"
   ]
  },
  {
   "cell_type": "code",
   "execution_count": 27,
   "metadata": {},
   "outputs": [
    {
     "name": "stdout",
     "output_type": "stream",
     "text": [
      "\n"
     ]
    }
   ],
   "source": [
    "## Dataset 1\n",
    "\n",
    "with open('twitter_sentiment/pos_tweets.db','rb') as infile:\n",
    "    pos_tweets = pickle.load(infile)\n",
    "    pos_tweets = np.array(pos_tweets)\n",
    "    pos_tweets = pos_tweets.reshape((len(pos_tweets),1))\n",
    "    \n",
    "with open('twitter_sentiment/neg_tweets.db','rb') as infile:\n",
    "    neg_tweets = pickle.load(infile)\n",
    "    neg_tweets = np.array(neg_tweets)\n",
    "    neg_tweets = neg_tweets.reshape((len(neg_tweets),1))\n",
    "\n",
    "## Since there are ~3 times more negative than positive, randomly subset the negative tweets\n",
    "\n",
    "subset = np.random.choice(len(neg_tweets), len(pos_tweets), replace=False)\n",
    "sub_neg_tweets = neg_tweets[subset]\n",
    "\n",
    "## Add class labels for negative (0) and positive (1) tweets\n",
    "neg = np.zeros(neg_tweets.shape)\n",
    "pos = np.ones(pos_tweets.shape)\n",
    "sub_neg = np.ones(sub_neg_tweets.shape)\n",
    "\n",
    "## Split into Test and Train\n",
    "X = np.vstack((pos_tweets,sub_neg_tweets))\n",
    "y = np.vstack((pos, sub_neg))\n",
    "\n",
    "X_train, X_test, y_train, y_test = train_test_split(X, y, test_size=0.20)\n",
    "\n",
    "## Export Test and Training Sets\n",
    "\n",
    "np.save('3_mwhite315/data/d1_x_train', X_train)\n",
    "np.save('3_mwhite315/data/d1_x_test', X_test)\n",
    "np.save('3_mwhite315/data/d1_y_train', y_train)\n",
    "np.save('3_mwhite315/data/d1_y_test', y_test)\n",
    "\n",
    "## Vetorize Train and Test Tweets\n",
    "train_tweets = X_train.tolist()\n",
    "train_tweets = [item for sublist in train_tweets for item in sublist]\n",
    "test_tweets = X_test.tolist()\n",
    "test_tweets = [item for sublist in test_tweets for item in sublist]\n",
    "\n",
    "train_vec = TfidfVectorizer(stop_words='english')\n",
    "train_tweets = train_vec.fit_transform(train_tweets)\n",
    "test_vec = TfidfVectorizer(stop_words='english')\n",
    "test_tweets = test_vec.fit_transform(test_tweets)"
   ]
  },
  {
   "cell_type": "code",
   "execution_count": 28,
   "metadata": {},
   "outputs": [
    {
     "data": {
      "image/png": "[encoded data removed]",
      "text/plain": [
       "<matplotlib.figure.Figure at 0x1a22dc2d10>"
      ]
     },
     "metadata": {},
     "output_type": "display_data"
    }
   ],
   "source": [
    "## k-means clustering\n",
    "\n",
    "# Find Optimal value of K\n",
    "elbow_k = []\n",
    "elbow_interia = []\n",
    "for k in range (1, 11):\n",
    "    kmeans_model = KMeans(n_clusters=k, random_state=1).fit(train_tweets)\n",
    "    labels = kmeans_model.labels_\n",
    "    interia = kmeans_model.inertia_\n",
    "    elbow_k.append(k)\n",
    "    elbow_interia.append(interia)\n",
    "\n",
    "## Plot Results\n",
    "fig, ax = plt.subplots()\n",
    "\n",
    "ax.plot(elbow_k, elbow_interia, c = 'blue')\n",
    "plt.axvline(x=6, c='red', ls='dashed')\n",
    "plt.axvline(x=4, c='green', ls='-.')\n",
    "plt.axvline(x=2, c='purple', ls='dotted')\n",
    "ax.set_xlabel(\"k\")\n",
    "ax.set_ylabel(\"Sum of Squared Errors\")\n",
    "plt.title(\"Choosing Optimal Value of k\")\n",
    "plt.savefig('3_mwhite315/optimal_k.png')\n",
    "plt.show()\n"
   ]
  },
  {
   "cell_type": "code",
   "execution_count": 46,
   "metadata": {},
   "outputs": [
    {
     "name": "stdout",
     "output_type": "stream",
     "text": [
      "Top terms per cluster:\n",
      "Cluster 0:"
     ]
    },
    {
     "ename": "TypeError",
     "evalue": "list indices must be integers, not numpy.float64",
     "output_type": "error",
     "traceback": [
      "\u001b[0;31m---------------------------------------------------------------------------\u001b[0m",
      "\u001b[0;31mTypeError\u001b[0m                                 Traceback (most recent call last)",
      "\u001b[0;32m<ipython-input-46-0290bb131780>\u001b[0m in \u001b[0;36m<module>\u001b[0;34m()\u001b[0m\n\u001b[1;32m     11\u001b[0m     \u001b[0;32mprint\u001b[0m\u001b[0;34m(\u001b[0m\u001b[0;34m\"Cluster %d:\"\u001b[0m \u001b[0;34m%\u001b[0m \u001b[0mi\u001b[0m\u001b[0;34m)\u001b[0m\u001b[0;34m,\u001b[0m\u001b[0;34m\u001b[0m\u001b[0m\n\u001b[1;32m     12\u001b[0m     \u001b[0;32mfor\u001b[0m \u001b[0mind\u001b[0m \u001b[0;32min\u001b[0m \u001b[0morder_centroids\u001b[0m\u001b[0;34m[\u001b[0m\u001b[0mi\u001b[0m\u001b[0;34m,\u001b[0m \u001b[0;34m:\u001b[0m\u001b[0;36m10\u001b[0m\u001b[0;34m]\u001b[0m\u001b[0;34m:\u001b[0m\u001b[0;34m\u001b[0m\u001b[0m\n\u001b[0;32m---> 13\u001b[0;31m         \u001b[0;32mprint\u001b[0m\u001b[0;34m(\u001b[0m\u001b[0;34m' %s'\u001b[0m \u001b[0;34m%\u001b[0m \u001b[0mterms\u001b[0m\u001b[0;34m[\u001b[0m\u001b[0mind\u001b[0m\u001b[0;34m]\u001b[0m\u001b[0;34m)\u001b[0m\u001b[0;34m,\u001b[0m\u001b[0;34m\u001b[0m\u001b[0m\n\u001b[0m\u001b[1;32m     14\u001b[0m     \u001b[0;32mprint\u001b[0m\u001b[0;34m\u001b[0m\u001b[0m\n\u001b[1;32m     15\u001b[0m \u001b[0;34m\u001b[0m\u001b[0m\n",
      "\u001b[0;31mTypeError\u001b[0m: list indices must be integers, not numpy.float64"
     ]
    }
   ],
   "source": [
    "## K-Means\n",
    "true_k = 2\n",
    "km = KMeans(n_clusters=true_k, init='k-means++', max_iter=100, n_init=1)\n",
    "train_predict = km.fit(train_tweets, y_train)\n",
    "order_centroids = km.cluster_centers_\n",
    "k_pred = km.predict(train_tweets)\n",
    "\n",
    "print(\"Top terms per cluster:\")\n",
    "terms = train_vec.get_feature_names()\n",
    "for i in range(true_k):\n",
    "    print(\"Cluster %d:\" % i),\n",
    "    for ind in order_centroids[i, :10]:\n",
    "        print(' %s' % terms[ind]),\n",
    "    print\n",
    "    \n",
    "## Plot Results\n",
    "fig, ax = plt.subplots()\n",
    "\n",
    "ax.plot(order_centroids[:,0], order_centroids[:,1], marker=\"x\", color='r', ls='None')\n",
    "plt.title(\"Clusters Centroids\")\n",
    "plt.savefig('3_mwhite315/centroids.png')\n",
    "plt.show()"
   ]
  },
  {
   "cell_type": "code",
   "execution_count": 49,
   "metadata": {},
   "outputs": [
    {
     "data": {
      "image/png": "[encoded data removed]",
      "text/plain": [
       "<matplotlib.figure.Figure at 0x1a40bdd190>"
      ]
     },
     "metadata": {},
     "output_type": "display_data"
    },
    {
     "data": {
      "image/png": "[encoded data removed]",
      "text/plain": [
       "<matplotlib.figure.Figure at 0x1a4141ea90>"
      ]
     },
     "metadata": {},
     "output_type": "display_data"
    }
   ],
   "source": [
    "fig, ax = plt.subplots()\n",
    "ax.scatter(y_train, k_pred)\n",
    "ax.plot(order_centroids[:,0], order_centroids[:,1], marker=\"x\", color='r', ls='None')\n",
    "plt.title(\"Clusters Centroids\")\n",
    "plt.savefig('3_mwhite315/centroids.png')\n",
    "plt.show()"
   ]
  },
  {
   "cell_type": "code",
   "execution_count": 50,
   "metadata": {},
   "outputs": [
    {
     "data": {
      "text/plain": [
       "array([1, 0, 0, ..., 0, 0, 0], dtype=int32)"
      ]
     },
     "execution_count": 50,
     "metadata": {},
     "output_type": "execute_result"
    }
   ],
   "source": [
    "k_pred"
   ]
  },
  {
   "cell_type": "code",
   "execution_count": null,
   "metadata": {},
   "outputs": [],
   "source": [
    "## Expectation Maximization\n",
    "from sklearn.mixture import GaussianMixture\n",
    "\n",
    "gmm = GaussianMixture(n_components=6)\n",
    "gmm.fit(train_tweets)\n",
    "\n",
    "X, Y = np.meshgrid(np.linspace(-1, 6), np.linspace(-1,6))\n",
    "XX = np.array([X.ravel(), Y.ravel()]).T\n",
    "Z = gmm.score_samples(XX)\n",
    "Z = Z.reshape((50,50))\n",
    " \n",
    "plt.contour(X, Y, Z)\n",
    "plt.scatter(train_tweets[:, 0], train_tweets[:, 1])\n",
    "plt.savefig('3_mwhite315/tweets_em.png')\n",
    "plt.show()"
   ]
  },
  {
   "cell_type": "code",
   "execution_count": 69,
   "metadata": {},
   "outputs": [],
   "source": [
    "## Dataset 3\n",
    "di = pd.read_csv('3_mwhite315/data/diabetic_data.csv')\n",
    "di['diabetesMed'] = di.diabetesMed.eq('Yes').mul(1)\n",
    "pos_di = di[di['diabetesMed'] == 1].sample(n=23403)\n",
    "neg_di = di[di['diabetesMed'] == 0]\n",
    "data = pos_di.append(neg_di)\n",
    "X = data.drop('diabetesMed', axis=1)\n",
    "X = X.select_dtypes(['number'])\n",
    "y = data['diabetesMed']\n",
    "\n",
    "X_train, X_test, y_train, y_test = train_test_split(X, y, test_size=0.20)\n",
    "\n",
    "## Export Test and Training Sets\n",
    "X_train.to_csv('3_mwhite315/data/d3_x_train.csv', index=False)\n",
    "X_test.to_csv('3_mwhite315/data/d3_x_test.csv', index=False)\n",
    "y_train.to_csv('3_mwhite315/data/d3_y_train.csv', index=False)\n",
    "y_test.to_csv('3_mwhite315/data/d3_y_test.csv', index=False)"
   ]
  },
  {
   "cell_type": "code",
   "execution_count": 72,
   "metadata": {},
   "outputs": [
    {
     "name": "stdout",
     "output_type": "stream",
     "text": [
      "[0.17635120700704979, 0.43112381155859419, 0.24650144215361608, 0.22417476765302852, 0.26236513193034933]\n",
      "[0, 1, 2, 3, 4]\n"
     ]
    }
   ],
   "source": [
    "## K-Means\n",
    "from sklearn.preprocessing import StandardScaler\n",
    "scaler = StandardScaler()\n",
    "# Fit on training set only.\n",
    "scaler.fit(X_train)\n",
    "# Apply transform to both the training set and the test set.\n",
    "sca_train = scaler.transform(X_train)\n",
    "sca_test = scaler.transform(X_test)\n",
    "\n",
    "true_k = 6\n",
    "km = KMeans(n_clusters=true_k, init='k-means++', max_iter=100, n_init=1)\n",
    "train_predict = km.fit(sca_train, y_train)\n",
    "k_pred = km.predict(sca_test)\n",
    "\n",
    "p_accuracy = []\n",
    "a = accuracy_score(y_test, k_pred)\n",
    "p_accuracy.append(a)\n",
    "\n",
    "# Add PCA\n",
    "for val in range(1,5):\n",
    "    pca = PCA(val)\n",
    "    pca.fit(X_train)\n",
    "    p_train = pca.transform(sca_train)\n",
    "    p_test = pca.transform(sca_test)\n",
    "    \n",
    "    true_k = 6\n",
    "    km = KMeans(n_clusters=true_k, init='k-means++', max_iter=100, n_init=1)\n",
    "    train_predict = km.fit(p_train, y_train)\n",
    "    p_pred = km.predict(p_train)\n",
    "    \n",
    "\n",
    "    # Catch Accuracy\n",
    "    a = accuracy_score(y_train, p_pred)\n",
    "    p_accuracy.append(a)\n",
    "\n",
    "print p_accuracy\n",
    "print range(5)\n"
   ]
  },
  {
   "cell_type": "code",
   "execution_count": 76,
   "metadata": {},
   "outputs": [
    {
     "name": "stdout",
     "output_type": "stream",
     "text": [
      "[0.17635120700704979, 0.42036107253498556, 0.34419399636790943, 0.23576540967845316, 0.17978848413631021]\n",
      "[0, 1, 2, 3, 4]\n"
     ]
    }
   ],
   "source": [
    "# Compute ICA\n",
    "# Add ICA\n",
    "l_accuracy = []\n",
    "a = accuracy_score(y_test, k_pred)\n",
    "l_accuracy.append(a)\n",
    "\n",
    "# Add LCA\n",
    "for val in range(1,5):\n",
    "    lca = FastICA(val)\n",
    "    lca.fit(X_train)\n",
    "    l_train = lca.transform(sca_train)\n",
    "    l_test = lca.transform(sca_test)\n",
    "    \n",
    "    true_k = 6\n",
    "    km = KMeans(n_clusters=true_k, init='k-means++', max_iter=100, n_init=1)\n",
    "    train_predict = km.fit(l_train, y_train)\n",
    "    l_pred = km.predict(l_train)\n",
    "    \n",
    "\n",
    "    # Catch Accuracy\n",
    "    a = accuracy_score(y_train, l_pred)\n",
    "    l_accuracy.append(a)\n",
    "\n",
    "print l_accuracy\n",
    "print range(5)"
   ]
  },
  {
   "cell_type": "code",
   "execution_count": 85,
   "metadata": {},
   "outputs": [
    {
     "data": {
      "image/png": "[encoded data removed]",
      "text/plain": [
       "<matplotlib.figure.Figure at 0x1a44b593d0>"
      ]
     },
     "metadata": {},
     "output_type": "display_data"
    }
   ],
   "source": [
    "fig, ax = plt.subplots()\n",
    "ax.plot(range(5), l_accuracy, c = \"red\", marker='o', linestyle='dashed', label = 'ICA')\n",
    "ax.plot(range(5), p_accuracy, c = \"blue\", marker='o', linestyle='dashed', label = 'PCA')\n",
    "ax.legend()\n",
    "plt.title(\"Dimensionality Reduction: PCA & ICA\", fontsize=14)\n",
    "ax.set_xlabel(\"Number of Components Removed\")\n",
    "ax.set_ylabel(\"Accuracy (%)\")\n",
    "plt.savefig('k_means_pca_ica.png')\n",
    "plt.show()"
   ]
  },
  {
   "cell_type": "code",
   "execution_count": 81,
   "metadata": {},
   "outputs": [
    {
     "name": "stdout",
     "output_type": "stream",
     "text": [
      "[0.17635120700704979, 0.20542677064416195, 0.149449845102019, 0.18454224975964106, 0.1847559021472065]\n",
      "[1, 2, 3, 4]\n"
     ]
    }
   ],
   "source": [
    "from sklearn.feature_selection import VarianceThreshold\n",
    "\n",
    "v_accuracy = []\n",
    "a = accuracy_score(y_test, k_pred)\n",
    "v_accuracy.append(a)\n",
    "\n",
    "t_out = []\n",
    "for val in range(1,5):\n",
    "    thresh = val * .2\n",
    "    var = VarianceThreshold(threshold=(thresh * (1 - thresh)))\n",
    "    var.fit(sca_train)\n",
    "    v_train = var.transform(sca_train)\n",
    "    v_test = var.transform(sca_test)\n",
    "    \n",
    "    true_k = 6\n",
    "    km = KMeans(n_clusters=true_k, init='k-means++', max_iter=100, n_init=1)\n",
    "    train_predict = km.fit(v_train, y_train)\n",
    "    v_pred = km.predict(v_train)\n",
    "    \n",
    "\n",
    "    # Catch Accuracy\n",
    "    a = accuracy_score(y_train, v_pred)\n",
    "    v_accuracy.append(a)\n",
    "    t_out.append(thresh)\n",
    "    \n",
    "t_out.append(1)\n",
    "print v_accuracy\n",
    "print range(1, 5)"
   ]
  },
  {
   "cell_type": "code",
   "execution_count": 82,
   "metadata": {},
   "outputs": [
    {
     "name": "stderr",
     "output_type": "stream",
     "text": [
      "//anaconda/lib/python2.7/site-packages/matplotlib/axes/_axes.py:519: UserWarning: No labelled objects found. Use label='...' kwarg on individual plots.\n",
      "  warnings.warn(\"No labelled objects found. \"\n"
     ]
    },
    {
     "data": {
      "image/png": "[encoded data removed]",
      "text/plain": [
       "<matplotlib.figure.Figure at 0x1a40a6c1d0>"
      ]
     },
     "metadata": {},
     "output_type": "display_data"
    },
    {
     "data": {
      "image/png": "[encoded data removed]",
      "text/plain": [
       "<matplotlib.figure.Figure at 0x1a40a89f90>"
      ]
     },
     "metadata": {},
     "output_type": "display_data"
    }
   ],
   "source": [
    "fig, ax = plt.subplots()\n",
    "ax.plot(t_out, v_accuracy, c = \"green\", marker='o', linestyle='dashed')\n",
    "plt.title(\"Dimensionality Reduction: Variance Reduction\", fontsize=14)\n",
    "ax.set_xlabel(\"Variance\")\n",
    "ax.set_ylabel(\"Accuracy (%)\")\n",
    "plt.savefig('k_means_var.png')\n",
    "plt.show()"
   ]
  },
  {
   "cell_type": "code",
   "execution_count": 83,
   "metadata": {},
   "outputs": [
    {
     "ename": "ValueError",
     "evalue": "Found input variables with inconsistent numbers of samples: [9362, 37444]",
     "output_type": "error",
     "traceback": [
      "\u001b[0;31m---------------------------------------------------------------------------\u001b[0m",
      "\u001b[0;31mValueError\u001b[0m                                Traceback (most recent call last)",
      "\u001b[0;32m<ipython-input-83-f6a435420f80>\u001b[0m in \u001b[0;36m<module>\u001b[0;34m()\u001b[0m\n\u001b[1;32m     21\u001b[0m \u001b[0;34m\u001b[0m\u001b[0m\n\u001b[1;32m     22\u001b[0m \u001b[0;31m# Catch Accuracy\u001b[0m\u001b[0;34m\u001b[0m\u001b[0;34m\u001b[0m\u001b[0m\n\u001b[0;32m---> 23\u001b[0;31m \u001b[0maccuracy_score\u001b[0m\u001b[0;34m(\u001b[0m\u001b[0my_test\u001b[0m\u001b[0;34m,\u001b[0m \u001b[0mr_pred\u001b[0m\u001b[0;34m)\u001b[0m\u001b[0;34m\u001b[0m\u001b[0m\n\u001b[0m",
      "\u001b[0;32m//anaconda/lib/python2.7/site-packages/sklearn/metrics/classification.pyc\u001b[0m in \u001b[0;36maccuracy_score\u001b[0;34m(y_true, y_pred, normalize, sample_weight)\u001b[0m\n\u001b[1;32m    174\u001b[0m \u001b[0;34m\u001b[0m\u001b[0m\n\u001b[1;32m    175\u001b[0m     \u001b[0;31m# Compute accuracy for each possible representation\u001b[0m\u001b[0;34m\u001b[0m\u001b[0;34m\u001b[0m\u001b[0m\n\u001b[0;32m--> 176\u001b[0;31m     \u001b[0my_type\u001b[0m\u001b[0;34m,\u001b[0m \u001b[0my_true\u001b[0m\u001b[0;34m,\u001b[0m \u001b[0my_pred\u001b[0m \u001b[0;34m=\u001b[0m \u001b[0m_check_targets\u001b[0m\u001b[0;34m(\u001b[0m\u001b[0my_true\u001b[0m\u001b[0;34m,\u001b[0m \u001b[0my_pred\u001b[0m\u001b[0;34m)\u001b[0m\u001b[0;34m\u001b[0m\u001b[0m\n\u001b[0m\u001b[1;32m    177\u001b[0m     \u001b[0;32mif\u001b[0m \u001b[0my_type\u001b[0m\u001b[0;34m.\u001b[0m\u001b[0mstartswith\u001b[0m\u001b[0;34m(\u001b[0m\u001b[0;34m'multilabel'\u001b[0m\u001b[0;34m)\u001b[0m\u001b[0;34m:\u001b[0m\u001b[0;34m\u001b[0m\u001b[0m\n\u001b[1;32m    178\u001b[0m         \u001b[0mdiffering_labels\u001b[0m \u001b[0;34m=\u001b[0m \u001b[0mcount_nonzero\u001b[0m\u001b[0;34m(\u001b[0m\u001b[0my_true\u001b[0m \u001b[0;34m-\u001b[0m \u001b[0my_pred\u001b[0m\u001b[0;34m,\u001b[0m \u001b[0maxis\u001b[0m\u001b[0;34m=\u001b[0m\u001b[0;36m1\u001b[0m\u001b[0;34m)\u001b[0m\u001b[0;34m\u001b[0m\u001b[0m\n",
      "\u001b[0;32m//anaconda/lib/python2.7/site-packages/sklearn/metrics/classification.pyc\u001b[0m in \u001b[0;36m_check_targets\u001b[0;34m(y_true, y_pred)\u001b[0m\n\u001b[1;32m     69\u001b[0m     \u001b[0my_pred\u001b[0m \u001b[0;34m:\u001b[0m \u001b[0marray\u001b[0m \u001b[0;32mor\u001b[0m \u001b[0mindicator\u001b[0m \u001b[0mmatrix\u001b[0m\u001b[0;34m\u001b[0m\u001b[0m\n\u001b[1;32m     70\u001b[0m     \"\"\"\n\u001b[0;32m---> 71\u001b[0;31m     \u001b[0mcheck_consistent_length\u001b[0m\u001b[0;34m(\u001b[0m\u001b[0my_true\u001b[0m\u001b[0;34m,\u001b[0m \u001b[0my_pred\u001b[0m\u001b[0;34m)\u001b[0m\u001b[0;34m\u001b[0m\u001b[0m\n\u001b[0m\u001b[1;32m     72\u001b[0m     \u001b[0mtype_true\u001b[0m \u001b[0;34m=\u001b[0m \u001b[0mtype_of_target\u001b[0m\u001b[0;34m(\u001b[0m\u001b[0my_true\u001b[0m\u001b[0;34m)\u001b[0m\u001b[0;34m\u001b[0m\u001b[0m\n\u001b[1;32m     73\u001b[0m     \u001b[0mtype_pred\u001b[0m \u001b[0;34m=\u001b[0m \u001b[0mtype_of_target\u001b[0m\u001b[0;34m(\u001b[0m\u001b[0my_pred\u001b[0m\u001b[0;34m)\u001b[0m\u001b[0;34m\u001b[0m\u001b[0m\n",
      "\u001b[0;32m//anaconda/lib/python2.7/site-packages/sklearn/utils/validation.pyc\u001b[0m in \u001b[0;36mcheck_consistent_length\u001b[0;34m(*arrays)\u001b[0m\n\u001b[1;32m    202\u001b[0m     \u001b[0;32mif\u001b[0m \u001b[0mlen\u001b[0m\u001b[0;34m(\u001b[0m\u001b[0muniques\u001b[0m\u001b[0;34m)\u001b[0m \u001b[0;34m>\u001b[0m \u001b[0;36m1\u001b[0m\u001b[0;34m:\u001b[0m\u001b[0;34m\u001b[0m\u001b[0m\n\u001b[1;32m    203\u001b[0m         raise ValueError(\"Found input variables with inconsistent numbers of\"\n\u001b[0;32m--> 204\u001b[0;31m                          \" samples: %r\" % [int(l) for l in lengths])\n\u001b[0m\u001b[1;32m    205\u001b[0m \u001b[0;34m\u001b[0m\u001b[0m\n\u001b[1;32m    206\u001b[0m \u001b[0;34m\u001b[0m\u001b[0m\n",
      "\u001b[0;31mValueError\u001b[0m: Found input variables with inconsistent numbers of samples: [9362, 37444]"
     ]
    }
   ],
   "source": [
    "## Recursive Feature Elimination\n",
    "\n",
    "from sklearn.svm import SVR\n",
    "from sklearn.datasets import load_digits\n",
    "from sklearn.feature_selection import RFE\n",
    "import matplotlib.pyplot as plt\n",
    "\n",
    "# Create the RFE object and rank each pixel\n",
    "\n",
    "svr = SVR(kernel=\"linear\")\n",
    "rfe = RFE(svr, 5, step=1)\n",
    "rfe.fit(sca_train, y_train)\n",
    "r_train = rfe.transform(sca_train)\n",
    "r_test = rfe.transform(sca_test)\n",
    "\n",
    "true_k = 6\n",
    "km = KMeans(n_clusters=true_k, init='k-means++', max_iter=100, n_init=1)\n",
    "train_predict = km.fit(r_train, y_train)\n",
    "r_pred = km.predict(r_train)\n",
    "    \n",
    "\n",
    "# Catch Accuracy\n",
    "accuracy_score(y_train, r_pred)"
   ]
  },
  {
   "cell_type": "code",
   "execution_count": 84,
   "metadata": {},
   "outputs": [
    {
     "data": {
      "text/plain": [
       "0.20585407541929282"
      ]
     },
     "execution_count": 84,
     "metadata": {},
     "output_type": "execute_result"
    }
   ],
   "source": [
    "accuracy_score(y_train, r_pred)"
   ]
  },
  {
   "cell_type": "code",
   "execution_count": null,
   "metadata": {
    "collapsed": true
   },
   "outputs": [],
   "source": []
  }
 ],
 "metadata": {
  "kernelspec": {
   "display_name": "Python 2",
   "language": "python",
   "name": "python2"
  },
  "language_info": {
   "codemirror_mode": {
    "name": "ipython",
    "version": 2
   },
   "file_extension": ".py",
   "mimetype": "text/x-python",
   "name": "python",
   "nbconvert_exporter": "python",
   "pygments_lexer": "ipython2",
   "version": "2.7.13"
  }
 },
 "nbformat": 4,
 "nbformat_minor": 2
}
