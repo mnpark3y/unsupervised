{
 "cells": [
  {
   "cell_type": "code",
   "execution_count": null,
   "metadata": {
    "collapsed": true
   },
   "outputs": [],
   "source": [
    "## GT Account: mwhite315\n",
    "## CS 7641: Machine Learning\n",
    "## Unsupervised Learning and Dimensionality Reduction\n",
    "## Dataset: Job Posts\n",
    "# Description: Code to run 6 different Unsupervised Learning Algorithms\n",
    "#\n",
    "#"
   ]
  },
  {
   "cell_type": "code",
   "execution_count": 52,
   "metadata": {},
   "outputs": [],
   "source": [
    "import numpy as np\n",
    "import pandas as pd\n",
    "import gensim\n",
    "import cPickle as pickle\n",
    "from sklearn.decomposition import FastICA\n",
    "from sklearn.cross_validation import train_test_split\n",
    "from sklearn.metrics import roc_curve, auc\n",
    "from sklearn.feature_extraction.text import TfidfVectorizer\n",
    "from sklearn.cluster import KMeans\n",
    "from sklearn.metrics import adjusted_rand_score\n",
    "from sklearn import tree, model_selection, svm\n",
    "from sklearn.neural_network import MLPClassifier\n",
    "from sklearn.model_selection import train_test_split\n",
    "from sklearn.metrics import classification_report, confusion_matrix, accuracy_score\n",
    "from sklearn.tree import DecisionTreeClassifier\n",
    "from sklearn.ensemble import AdaBoostClassifier\n",
    "from sklearn.neighbors import KNeighborsClassifier\n",
    "import graphviz\n",
    "import matplotlib.pyplot as plt"
   ]
  },
  {
   "cell_type": "code",
   "execution_count": 37,
   "metadata": {},
   "outputs": [],
   "source": [
    "## Load Dataset 2\n",
    "# Seperate Data into Test and Train\n",
    "tf = pd.read_csv('3_mwhite315/data/num_job_posts.csv')\n",
    "pos_jobs = tf[tf['programming'] == 1]\n",
    "neg_jobs = tf[tf['programming'] == 0].sample(n=1003)\n",
    "data = pos_jobs.append(neg_jobs)\n",
    "X = data.drop('programming', axis=1)\n",
    "y = data['programming']\n",
    "\n",
    "X_train, X_test, y_train, y_test = train_test_split(X, y, test_size=0.20)\n",
    "\n",
    "## Export Test and Training Sets\n",
    "X_train.to_csv('3_mwhite315/data/d2_x_train'+str()+'.csv', index=False)\n",
    "X_test.to_csv('3_mwhite315/data/d2_x_test.csv', index=False)\n",
    "y_train.to_csv('3_mwhite315/data/d2_y_train.csv', index=False)\n",
    "y_test.to_csv('3_mwhite315/data/d2_y_test.csv', index=False)"
   ]
  },
  {
   "cell_type": "code",
   "execution_count": 77,
   "metadata": {},
   "outputs": [
    {
     "name": "stdout",
     "output_type": "stream",
     "text": [
      "[[129  68]\n",
      " [ 84 121]]\n",
      "             precision    recall  f1-score   support\n",
      "\n",
      "          0       0.61      0.65      0.63       197\n",
      "          1       0.64      0.59      0.61       205\n",
      "\n",
      "avg / total       0.62      0.62      0.62       402\n",
      "\n",
      "[0.62189054726368154, 0.57711442786069655, 0.55472636815920395, 0.60199004975124382, 0.61940298507462688]\n",
      "[0, 1, 2, 3, 4]\n"
     ]
    }
   ],
   "source": [
    "# Neural Nets Original\n",
    "# Create and Fit a Multi-Layer Perceptron Neural Network\n",
    "from sklearn.preprocessing import StandardScaler\n",
    "scaler = StandardScaler()\n",
    "# Fit on training set only.\n",
    "scaler.fit(X_train)\n",
    "# Apply transform to both the training set and the test set.\n",
    "sca_train = scaler.transform(X_train)\n",
    "sca_test = scaler.transform(X_test)\n",
    "\n",
    "mlp = MLPClassifier()\n",
    "mlp.fit(sca_train,y_train)\n",
    "\n",
    "# Make predictions on unseen test data\n",
    "m_pred = mlp.predict(sca_test)\n",
    "\n",
    "# Print Results\n",
    "print(confusion_matrix(y_test, m_pred))  \n",
    "print(classification_report(y_test, m_pred))\n",
    "\n",
    "from sklearn.decomposition import PCA\n",
    "\n",
    "p_accuracy = []\n",
    "a = accuracy_score(y_test, m_pred)\n",
    "p_accuracy.append(a)\n",
    "\n",
    "# Add PCA\n",
    "for val in range(1,5):\n",
    "    pca = PCA(val)\n",
    "    pca.fit(sca_train)\n",
    "    p_train = pca.transform(sca_train)\n",
    "    p_test = pca.transform(sca_test)\n",
    "    \n",
    "    ## train neural network\n",
    "    mlp = MLPClassifier()\n",
    "    mlp.fit(p_train,y_train)\n",
    "    \n",
    "    # Make predictions on unseen test data\n",
    "    p_pred = mlp.predict(p_test)\n",
    "    \n",
    "\n",
    "    # Catch Accuracy\n",
    "    a = accuracy_score(y_test, p_pred)\n",
    "    p_accuracy.append(a)\n",
    "\n",
    "print p_accuracy\n",
    "p_accuracy = p_accuracy[0], p_accuracy[4], p_accuracy[3], p_accuracy[2], p_accuracy[1]\n",
    "print range(5)"
   ]
  },
  {
   "cell_type": "code",
   "execution_count": 76,
   "metadata": {},
   "outputs": [
    {
     "name": "stdout",
     "output_type": "stream",
     "text": [
      "[0.62686567164179108, 0.50995024875621886, 0.5149253731343284, 0.51243781094527363, 0.49004975124378108]\n",
      "[0, 1, 2, 3, 4]\n"
     ]
    }
   ],
   "source": [
    "# Compute ICA\n",
    "# Add ICA\n",
    "l_accuracy = []\n",
    "a = accuracy_score(y_test, m_pred)\n",
    "l_accuracy.append(a)\n",
    "\n",
    "for val in range(1,5):\n",
    "    ica = FastICA(val)\n",
    "    ica.fit(sca_train)\n",
    "    i_train = ica.transform(sca_train)\n",
    "    i_test = ica.transform(sca_test)\n",
    "    \n",
    "    ## train neural network\n",
    "    mlp = MLPClassifier()\n",
    "    mlp.fit(i_train,y_train)\n",
    "    \n",
    "    # Make predictions on unseen test data\n",
    "    l_pred = mlp.predict(i_test)\n",
    "    \n",
    "\n",
    "    # Catch Accuracy\n",
    "    a = accuracy_score(y_test, l_pred)\n",
    "    l_accuracy.append(a)\n",
    "\n",
    "print l_accuracy\n",
    "l_accuracy = l_accuracy[0], l_accuracy[4], l_accuracy[3], l_accuracy[2], l_accuracy[1]\n",
    "print range(5)"
   ]
  },
  {
   "cell_type": "code",
   "execution_count": 93,
   "metadata": {},
   "outputs": [
    {
     "data": {
      "image/png": "[encoded data removed]",
      "text/plain": [
       "<matplotlib.figure.Figure at 0x1a1f174c10>"
      ]
     },
     "metadata": {},
     "output_type": "display_data"
    }
   ],
   "source": [
    "fig, ax = plt.subplots()\n",
    "ax.plot(range(5), l_accuracy, c = \"red\", marker='o', linestyle='dashed', label = 'ICA')\n",
    "ax.plot(range(5), p_accuracy, c = \"blue\", marker='o', linestyle='dashed', label = 'PCA')\n",
    "ax.legend()\n",
    "plt.title(\"Dimensionality Reduction: PCA & ICA\", fontsize=14)\n",
    "ax.set_xlabel(\"Number of Components Removed\")\n",
    "ax.set_ylabel(\"Accuracy (%)\")\n",
    "plt.savefig('pca_ica.png')\n",
    "plt.show()\n"
   ]
  },
  {
   "cell_type": "code",
   "execution_count": 87,
   "metadata": {},
   "outputs": [
    {
     "name": "stdout",
     "output_type": "stream",
     "text": [
      "[0.62189054726368154, 0.61940298507462688, 0.63432835820895528, 0.61194029850746268, 0.60447761194029848]\n",
      "[0.2, 0.4, 0.6000000000000001, 0.8, 1]\n"
     ]
    }
   ],
   "source": [
    "## Removing Features with Low Variance\n",
    "from sklearn.feature_selection import VarianceThreshold\n",
    "\n",
    "v_accuracy = []\n",
    "a = accuracy_score(y_test, m_pred)\n",
    "v_accuracy.append(a)\n",
    "\n",
    "t_out = []\n",
    "\n",
    "for val in range(1,5):\n",
    "    thresh = val * .2\n",
    "    var = VarianceThreshold(threshold=(thresh * (1 - thresh)))\n",
    "    var.fit(sca_train)\n",
    "    v_train = var.transform(sca_train)\n",
    "    v_test = var.transform(sca_test)\n",
    "    \n",
    "    ## train neural network\n",
    "    mlp = MLPClassifier()\n",
    "    mlp.fit(v_train,y_train)\n",
    "    \n",
    "    # Make predictions on unseen test data\n",
    "    v_pred = mlp.predict(v_test)\n",
    "    \n",
    "\n",
    "    # Catch Accuracy\n",
    "    a = accuracy_score(y_test, v_pred)\n",
    "    v_accuracy.append(a)\n",
    "    t_out.append(thresh)\n",
    "\n",
    "t_out.append(1)\n",
    "print v_accuracy\n",
    "print t_out"
   ]
  },
  {
   "cell_type": "code",
   "execution_count": 92,
   "metadata": {},
   "outputs": [
    {
     "data": {
      "image/png": "[encoded data removed]",
      "text/plain": [
       "<matplotlib.figure.Figure at 0x1a20664610>"
      ]
     },
     "metadata": {},
     "output_type": "display_data"
    }
   ],
   "source": [
    "v = [.2,.4,.6,.8]\n",
    "fig, ax = plt.subplots()\n",
    "ax.plot(t_out, v_accuracy, c = \"green\", marker='o', linestyle='dashed')\n",
    "plt.title(\"Dimensionality Reduction: Variance Reduction\", fontsize=14)\n",
    "ax.set_xlabel(\"Variance\")\n",
    "ax.set_ylabel(\"Accuracy (%)\")\n",
    "plt.savefig('var.png')\n",
    "plt.show()"
   ]
  },
  {
   "cell_type": "code",
   "execution_count": 89,
   "metadata": {},
   "outputs": [
    {
     "data": {
      "text/plain": [
       "0.62189054726368154"
      ]
     },
     "execution_count": 89,
     "metadata": {},
     "output_type": "execute_result"
    }
   ],
   "source": [
    "## Recursive Feature Elimination\n",
    "\n",
    "from sklearn.svm import SVR\n",
    "from sklearn.datasets import load_digits\n",
    "from sklearn.feature_selection import RFE\n",
    "import matplotlib.pyplot as plt\n",
    "\n",
    "# Create the RFE object and rank each pixel\n",
    "\n",
    "svr = SVR(kernel=\"linear\")\n",
    "rfe = RFE(svr, 5, step=1)\n",
    "rfe.fit(sca_train, y_train)\n",
    "r_train = rfe.transform(sca_train)\n",
    "r_test = rfe.transform(sca_test)\n",
    "\n",
    "mlp = MLPClassifier()\n",
    "mlp.fit(r_train,y_train)\n",
    "    \n",
    "# Make predictions on unseen test data\n",
    "r_pred = mlp.predict(r_test)\n",
    "    \n",
    "\n",
    "# Catch Accuracy\n",
    "accuracy_score(y_test, r_pred)"
   ]
  },
  {
   "cell_type": "code",
   "execution_count": null,
   "metadata": {
    "collapsed": true
   },
   "outputs": [],
   "source": []
  }
 ],
 "metadata": {
  "kernelspec": {
   "display_name": "Python 2",
   "language": "python",
   "name": "python2"
  },
  "language_info": {
   "codemirror_mode": {
    "name": "ipython",
    "version": 2
   },
   "file_extension": ".py",
   "mimetype": "text/x-python",
   "name": "python",
   "nbconvert_exporter": "python",
   "pygments_lexer": "ipython2",
   "version": "2.7.13"
  }
 },
 "nbformat": 4,
 "nbformat_minor": 2
}
